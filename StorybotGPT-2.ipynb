{
 "cells": [
  {
   "cell_type": "code",
   "execution_count": null,
   "id": "08e51bb3",
   "metadata": {},
   "outputs": [],
   "source": [
    "import torch.nn as nn"
   ]
  },
  {
   "cell_type": "code",
   "execution_count": null,
   "id": "e91c7d38",
   "metadata": {},
   "outputs": [],
   "source": [
    "from transformers import GPT2Tokenizer, GPT2LMHeadModel"
   ]
  },
  {
   "cell_type": "code",
   "execution_count": null,
   "id": "513f24d9",
   "metadata": {},
   "outputs": [],
   "source": [
    "# Initialize GPT-2 tokenizer\n",
    "tokenizer = GPT2Tokenizer.from_pretrained('gpt2')\n",
    "# Initialize GPT-2 model\n",
    "model = GPT2LMHeadModel.from_pretrained('gpt2')"
   ]
  },
  {
   "cell_type": "code",
   "execution_count": null,
   "id": "83c49d2d",
   "metadata": {},
   "outputs": [],
   "source": [
    "import torch\n",
    "\n",
    "if torch.cuda.is_available():\n",
    "    device = torch.device(\"cuda\")\n",
    "    print(\"GPU is available\")\n",
    "else:\n",
    "    device = torch.device(\"cpu\")\n",
    "    print(\"GPU is not available\")"
   ]
  },
  {
   "cell_type": "code",
   "execution_count": null,
   "id": "02941749",
   "metadata": {},
   "outputs": [],
   "source": [
    "def classify_input(prompt):\n",
    "    input_ids = tokenizer.encode(prompt, return_tensors='pt')\n",
    "    logits = model(input_ids)[0]\n",
    "    prob = nn.functional.softmax(logits, dim=-1)\n",
    "    pred = prob.argmax().item()\n",
    "    return pred,prob"
   ]
  },
  {
   "cell_type": "code",
   "execution_count": null,
   "id": "0403c6a4",
   "metadata": {},
   "outputs": [],
   "source": [
    "def generate_story(prompt):\n",
    "    input_ids = tokenizer.encode(prompt, return_tensors='pt')\n",
    "    sample_output = model.generate(input_ids, do_sample=True, max_length=1024, top_p=0.95, top_k=60)\n",
    "    story = tokenizer.decode(sample_output[0], skip_special_tokens=True)\n",
    "    return story"
   ]
  },
  {
   "cell_type": "code",
   "execution_count": null,
   "id": "ee29470e",
   "metadata": {},
   "outputs": [],
   "source": [
    "while True:\n",
    "    user_input = input(\"You: \")\n",
    "    if user_input.strip() == \"bye\":\n",
    "        break\n",
    "    pred,prob = classify_input(user_input)\n",
    "    story = generate_story(user_input)\n",
    "    print(\"Chatbot: \" + story)"
   ]
  },
  {
   "cell_type": "code",
   "execution_count": null,
   "id": "bc9a2d82",
   "metadata": {},
   "outputs": [],
   "source": []
  }
 ],
 "metadata": {
  "kernelspec": {
   "display_name": "Python 3 (ipykernel)",
   "language": "python",
   "name": "python3"
  },
  "language_info": {
   "codemirror_mode": {
    "name": "ipython",
    "version": 3
   },
   "file_extension": ".py",
   "mimetype": "text/x-python",
   "name": "python",
   "nbconvert_exporter": "python",
   "pygments_lexer": "ipython3",
   "version": "3.10.0"
  }
 },
 "nbformat": 4,
 "nbformat_minor": 5
}
